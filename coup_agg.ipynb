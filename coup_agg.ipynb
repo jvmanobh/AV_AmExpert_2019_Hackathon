{
 "cells": [
  {
   "cell_type": "code",
   "execution_count": 1,
   "metadata": {},
   "outputs": [],
   "source": [
    "#Loading essential libraries\n",
    "import numpy as np\n",
    "import pandas as pd"
   ]
  },
  {
   "cell_type": "code",
   "execution_count": 2,
   "metadata": {},
   "outputs": [],
   "source": [
    "#Loading datasets\n",
    "tr = pd.read_csv('train.csv')\n",
    "camp = pd.read_csv('campaign_data.csv')\n",
    "coup = pd.read_csv('coupon_item_mapping.csv')\n",
    "item = pd.read_csv('item_data.csv')\n",
    "cust_dem = pd.read_csv('customer_demographics.csv')\n",
    "cust_trans = pd.read_csv('customer_transaction_data.csv')\n",
    "ts = pd.read_csv('test_QyjYwdj.csv')"
   ]
  },
  {
   "cell_type": "code",
   "execution_count": 3,
   "metadata": {},
   "outputs": [],
   "source": [
    "#Loading cutomer level aggreagtion data which we prepared earlier\n",
    "cust_agg = pd.read_csv('cust_agg.csv')"
   ]
  },
  {
   "cell_type": "code",
   "execution_count": 4,
   "metadata": {},
   "outputs": [
    {
     "name": "stdout",
     "output_type": "stream",
     "text": [
      "<class 'pandas.core.frame.DataFrame'>\n",
      "RangeIndex: 1324566 entries, 0 to 1324565\n",
      "Data columns (total 11 columns):\n",
      "date               1324566 non-null datetime64[ns]\n",
      "customer_id        1324566 non-null int64\n",
      "item_id            1324566 non-null int64\n",
      "quantity           1324566 non-null int64\n",
      "selling_price      1324566 non-null float64\n",
      "other_discount     1324566 non-null float64\n",
      "coupon_discount    1324566 non-null float64\n",
      "date_weekday       1324566 non-null object\n",
      "date_month         1324566 non-null int64\n",
      "date_quarter       1324566 non-null int64\n",
      "date_year          1324566 non-null int64\n",
      "dtypes: datetime64[ns](1), float64(3), int64(6), object(1)\n",
      "memory usage: 111.2+ MB\n"
     ]
    }
   ],
   "source": [
    "#Deriving dayofweek, month, quarter, year from date in cust_trans\n",
    "cust_trans['date'] = pd.to_datetime(cust_trans['date'], infer_datetime_format=True)\n",
    "cust_trans['date_weekday'] = cust_trans.date.dt.weekday_name\n",
    "cust_trans['date_month'] = cust_trans.date.dt.month\n",
    "cust_trans['date_quarter'] = cust_trans.date.dt.quarter\n",
    "cust_trans['date_year'] = cust_trans.date.dt.year\n",
    "\n",
    "#Also changing negative foramt in discount to positive\n",
    "cust_trans['other_discount'] = abs(cust_trans['other_discount'])\n",
    "cust_trans['coupon_discount'] = abs(cust_trans['coupon_discount'])\n",
    "cust_trans.info()"
   ]
  },
  {
   "cell_type": "code",
   "execution_count": 15,
   "metadata": {},
   "outputs": [
    {
     "name": "stdout",
     "output_type": "stream",
     "text": [
      "<class 'pandas.core.frame.DataFrame'>\n",
      "Int64Index: 92663 entries, 0 to 92662\n",
      "Data columns (total 5 columns):\n",
      "coupon_id     92663 non-null int64\n",
      "item_id       92663 non-null int64\n",
      "brand         92663 non-null int64\n",
      "brand_type    92663 non-null object\n",
      "category      92663 non-null object\n",
      "dtypes: int64(3), object(2)\n",
      "memory usage: 4.2+ MB\n"
     ]
    }
   ],
   "source": [
    "#Merging coupon and item data\n",
    "coup_item = coup.merge(item, on='item_id', how='left')\n",
    "coup_item.info()"
   ]
  },
  {
   "cell_type": "code",
   "execution_count": 6,
   "metadata": {},
   "outputs": [
    {
     "name": "stdout",
     "output_type": "stream",
     "text": [
      "<class 'pandas.core.frame.DataFrame'>\n",
      "Int64Index: 1324566 entries, 0 to 1324565\n",
      "Data columns (total 14 columns):\n",
      "date               1324566 non-null datetime64[ns]\n",
      "customer_id        1324566 non-null int64\n",
      "item_id            1324566 non-null int64\n",
      "quantity           1324566 non-null int64\n",
      "selling_price      1324566 non-null float64\n",
      "other_discount     1324566 non-null float64\n",
      "coupon_discount    1324566 non-null float64\n",
      "date_weekday       1324566 non-null object\n",
      "date_month         1324566 non-null int64\n",
      "date_quarter       1324566 non-null int64\n",
      "date_year          1324566 non-null int64\n",
      "brand              1324566 non-null int64\n",
      "brand_type         1324566 non-null object\n",
      "category           1324566 non-null object\n",
      "dtypes: datetime64[ns](1), float64(3), int64(7), object(3)\n",
      "memory usage: 151.6+ MB\n"
     ]
    }
   ],
   "source": [
    "#Merging cust_trans and item data\n",
    "cust_item = cust_trans.merge(item, on='item_id', how='left')\n",
    "cust_item.info()"
   ]
  },
  {
   "cell_type": "code",
   "execution_count": 32,
   "metadata": {},
   "outputs": [
    {
     "name": "stdout",
     "output_type": "stream",
     "text": [
      "<class 'pandas.core.frame.DataFrame'>\n",
      "Int64Index: 1116 entries, 1 to 1116\n",
      "Data columns (total 3 columns):\n",
      "coup_item_id_count    1116 non-null int64\n",
      "coup_brand_count      1116 non-null int64\n",
      "coup_brand_nunique    1116 non-null int64\n",
      "dtypes: int64(3)\n",
      "memory usage: 34.9 KB\n"
     ]
    }
   ],
   "source": [
    "coup_agg = coup_item.groupby(['coupon_id']).agg({'item_id':['count'], 'brand':['count', 'nunique']})\n",
    "coup_agg.columns=['coup_' + '_'.join(col).strip() for col in coup_agg.columns.values]\n",
    "coup_agg.info()"
   ]
  },
  {
   "cell_type": "markdown",
   "metadata": {},
   "source": [
    "#### Aggregating and creating Features from transactional data for each item"
   ]
  },
  {
   "cell_type": "code",
   "execution_count": 7,
   "metadata": {},
   "outputs": [
    {
     "name": "stdout",
     "output_type": "stream",
     "text": [
      "<class 'pandas.core.frame.DataFrame'>\n",
      "Int64Index: 74063 entries, 1 to 74066\n",
      "Data columns (total 6 columns):\n",
      "item_trans_count            74063 non-null int64\n",
      "item_customer_id_nunique    74063 non-null int64\n",
      "item_quantity_sum           74063 non-null int64\n",
      "item_selling_price_sum      74063 non-null float64\n",
      "item_coupon_discount_sum    74063 non-null float64\n",
      "item_other_discount_sum     74063 non-null float64\n",
      "dtypes: float64(3), int64(3)\n",
      "memory usage: 4.0 MB\n"
     ]
    }
   ],
   "source": [
    "#Creating item aggregation dataset\n",
    "#Number of purchase transactions & quantities purchased for each item?\n",
    "#Total selling price, coupon discount, other discount for each item?\n",
    "#Number of unique customers who purchased the item?\n",
    "#How much coupon discount & other discount in price happened for each item?\n",
    "\n",
    "agg_col = {'customer_id': ['count', 'nunique'], 'quantity':['sum'], 'selling_price':['sum'], 'coupon_discount':['sum'],\n",
    "          'other_discount':['sum']}\n",
    "\n",
    "item_agg = cust_item.groupby(['item_id']).agg(agg_col)\n",
    "item_agg.columns=['item_' + '_'.join(col).strip() for col in item_agg.columns.values]\n",
    "item_agg.rename(columns={'item_customer_id_count':'item_trans_count'}, inplace=True)\n",
    "item_agg.info()"
   ]
  },
  {
   "cell_type": "code",
   "execution_count": 8,
   "metadata": {},
   "outputs": [],
   "source": [
    "#Aggregation of item data by weekday in customer's transaction date\n",
    "for x in cust_item['date_weekday'].unique():\n",
    "    #Number of purchase transactions & quantities purchased in each month, dayofweek, quarter & year in each item?\n",
    "    tmp_map = cust_item[(cust_item['date_weekday']==x)].groupby(['item_id']).size()\n",
    "    cname1 = 'item_'+str(x)+'_trans_count'\n",
    "    item_agg[cname1] = item_agg.index.map(tmp_map)\n",
    "    item_agg.loc[item_agg[cname1].isnull(), cname1] = 0\n",
    "    \n",
    "    tmp_map = cust_item[(cust_item['date_weekday']==x)].groupby(['item_id'])['quantity'].sum()\n",
    "    cname2 = 'item_'+str(x)+'_quantity_sum'\n",
    "    item_agg[cname2] = item_agg.index.map(tmp_map)\n",
    "    item_agg.loc[item_agg[cname2].isnull(), cname2] = 0\n",
    "    \n",
    "    #Total selling price, coupon discount, other discount across each month, dayofweek, quarter & year in each item?\n",
    "    tmp_map = cust_item[(cust_item['date_weekday']==x)].groupby(['item_id'])['selling_price'].sum()\n",
    "    cname3 = 'item_'+str(x)+'_selling_price_sum'\n",
    "    item_agg[cname3] = item_agg.index.map(tmp_map)\n",
    "    item_agg.loc[item_agg[cname3].isnull(), cname3] = 0\n",
    "    \n",
    "    tmp_map = cust_item[(cust_item['date_weekday']==x)].groupby(['item_id'])['coupon_discount'].sum()\n",
    "    cname4 = 'item_'+str(x)+'_coupon_discount_sum'\n",
    "    item_agg[cname4] = item_agg.index.map(tmp_map)\n",
    "    item_agg.loc[item_agg[cname4].isnull(), cname4] = 0\n",
    "    \n",
    "    tmp_map = cust_item[(cust_item['date_weekday']==x)].groupby(['item_id'])['other_discount'].sum()\n",
    "    cname5 = 'item_'+str(x)+'_other_discount_sum'\n",
    "    item_agg[cname5] = item_agg.index.map(tmp_map)\n",
    "    item_agg.loc[item_agg[cname5].isnull(), cname5] = 0\n",
    "    \n",
    "    #Number of coupon discount transactions & quantities purchased across each month, dayofweek, quarter & year in each item?\n",
    "    tmp_map = cust_item[(cust_item['date_weekday']==x) & (cust_item['coupon_discount']!=0)].groupby(['item_id']).size()\n",
    "    cname6 = 'item_'+str(x)+'_coupdisc_trans_count'\n",
    "    item_agg[cname6] = item_agg.index.map(tmp_map)\n",
    "    item_agg.loc[item_agg[cname6].isnull(), cname6] = 0\n",
    "    \n",
    "    tmp_map = cust_item[(cust_item['date_weekday']==x) & (cust_item['coupon_discount']!=0)].groupby(['item_id'])['quantity'].sum()\n",
    "    cname7 = 'item_'+str(x)+'_coupdisc_quantity_sum'\n",
    "    item_agg[cname7] = item_agg.index.map(tmp_map)\n",
    "    item_agg.loc[item_agg[cname7].isnull(), cname7] = 0\n",
    "    \n",
    "    #Number of Other discount transactions & quantities purchased across each month, dayofweek, quarter & year in each item?\n",
    "    tmp_map = cust_item[(cust_item['date_weekday']==x) & (cust_item['other_discount']!=0)].groupby(['item_id']).size()\n",
    "    cname8 = 'item_'+str(x)+'_otherdisc_trans_count'\n",
    "    item_agg[cname8] = item_agg.index.map(tmp_map)\n",
    "    item_agg.loc[item_agg[cname8].isnull(), cname8] = 0\n",
    "    \n",
    "    tmp_map = cust_item[(cust_item['date_weekday']==x) & (cust_item['other_discount']!=0)].groupby(['item_id'])['quantity'].sum()\n",
    "    cname9 = 'item_'+str(x)+'_otherdisc_quantity_sum'\n",
    "    item_agg[cname9] = item_agg.index.map(tmp_map)\n",
    "    item_agg.loc[item_agg[cname9].isnull(), cname9] = 0\n",
    "    \n",
    "    #Number of discount transactions & quantities purchased across each month, dayofweek, quarter & year in each item?\n",
    "    tmp_map = cust_item[(cust_item['date_weekday']==x) &\n",
    "                        ((cust_item['other_discount']!=0) | (cust_item['coupon_discount']!=0))].groupby(['item_id']).size()\n",
    "    cname10 = 'item_'+str(x)+'_discount_trans_count'\n",
    "    item_agg[cname10] = item_agg.index.map(tmp_map)\n",
    "    item_agg.loc[item_agg[cname10].isnull(), cname10] = 0\n",
    "    \n",
    "    tmp_map = cust_item[(cust_item['date_weekday']==x) &\n",
    "                        ((cust_item['other_discount']!=0) | (cust_item['coupon_discount']!=0))].groupby(['item_id'])['quantity'].sum()\n",
    "    cname11 = 'item_'+str(x)+'_discount_quantity_sum'\n",
    "    item_agg[cname11] = item_agg.index.map(tmp_map)\n",
    "    item_agg.loc[item_agg[cname11].isnull(), cname11] = 0"
   ]
  },
  {
   "cell_type": "code",
   "execution_count": 9,
   "metadata": {},
   "outputs": [],
   "source": [
    "#Aggregation of item data by month in customer's transaction date\n",
    "for x in cust_item['date_month'].unique():\n",
    "    \n",
    "    tmp_map = cust_item[(cust_item['date_month']==x)].groupby(['item_id']).size()\n",
    "    cname1 = 'item_month_'+str(x)+'_trans_count'\n",
    "    item_agg[cname1] = item_agg.index.map(tmp_map)\n",
    "    item_agg.loc[item_agg[cname1].isnull(), cname1] = 0\n",
    "    \n",
    "    tmp_map = cust_item[(cust_item['date_month']==x)].groupby(['item_id'])['quantity'].sum()\n",
    "    cname2 = 'item_month_'+str(x)+'_quantity_sum'\n",
    "    item_agg[cname2] = item_agg.index.map(tmp_map)\n",
    "    item_agg.loc[item_agg[cname2].isnull(), cname2] = 0\n",
    "    \n",
    "    tmp_map = cust_item[(cust_item['date_month']==x)].groupby(['item_id'])['selling_price'].sum()\n",
    "    cname3 = 'item_month_'+str(x)+'_selling_price_sum'\n",
    "    item_agg[cname3] = item_agg.index.map(tmp_map)\n",
    "    item_agg.loc[item_agg[cname3].isnull(), cname3] = 0\n",
    "    \n",
    "    tmp_map = cust_item[(cust_item['date_month']==x)].groupby(['item_id'])['coupon_discount'].sum()\n",
    "    cname4 = 'item_month_'+str(x)+'_coupon_discount_sum'\n",
    "    item_agg[cname4] = item_agg.index.map(tmp_map)\n",
    "    item_agg.loc[item_agg[cname4].isnull(), cname4] = 0\n",
    "    \n",
    "    tmp_map = cust_item[(cust_item['date_month']==x)].groupby(['item_id'])['other_discount'].sum()\n",
    "    cname5 = 'item_month_'+str(x)+'_other_discount_sum'\n",
    "    item_agg[cname5] = item_agg.index.map(tmp_map)\n",
    "    item_agg.loc[item_agg[cname5].isnull(), cname5] = 0\n",
    "    \n",
    "    tmp_map = cust_item[(cust_item['date_month']==x) & (cust_item['coupon_discount']!=0)].groupby(['item_id']).size()\n",
    "    cname6 = 'item_month_'+str(x)+'_coupdisc_trans_count'\n",
    "    item_agg[cname6] = item_agg.index.map(tmp_map)\n",
    "    item_agg.loc[item_agg[cname6].isnull(), cname6] = 0\n",
    "    \n",
    "    tmp_map = cust_item[(cust_item['date_month']==x) & (cust_item['coupon_discount']!=0)].groupby(['item_id'])['quantity'].sum()\n",
    "    cname7 = 'item_month_'+str(x)+'_coupdisc_quantity_sum'\n",
    "    item_agg[cname7] = item_agg.index.map(tmp_map)\n",
    "    item_agg.loc[item_agg[cname7].isnull(), cname7] = 0\n",
    "    \n",
    "    tmp_map = cust_item[(cust_item['date_month']==x) & (cust_item['other_discount']!=0)].groupby(['item_id']).size()\n",
    "    cname8 = 'item_month_'+str(x)+'_otherdisc_trans_count'\n",
    "    item_agg[cname8] = item_agg.index.map(tmp_map)\n",
    "    item_agg.loc[item_agg[cname8].isnull(), cname8] = 0\n",
    "    \n",
    "    tmp_map = cust_item[(cust_item['date_month']==x) & (cust_item['other_discount']!=0)].groupby(['item_id'])['quantity'].sum()\n",
    "    cname9 = 'item_month_'+str(x)+'_otherdisc_quantity_sum'\n",
    "    item_agg[cname9] = item_agg.index.map(tmp_map)\n",
    "    item_agg.loc[item_agg[cname9].isnull(), cname9] = 0\n",
    "    \n",
    "    tmp_map = cust_item[(cust_item['date_month']==x) &\n",
    "                        ((cust_item['other_discount']!=0) | (cust_item['coupon_discount']!=0))].groupby(['item_id']).size()\n",
    "    cname10 = 'item_month_'+str(x)+'_discount_trans_count'\n",
    "    item_agg[cname10] = item_agg.index.map(tmp_map)\n",
    "    item_agg.loc[item_agg[cname10].isnull(), cname10] = 0\n",
    "    \n",
    "    tmp_map = cust_item[(cust_item['date_month']==x) &\n",
    "                        ((cust_item['other_discount']!=0) | (cust_item['coupon_discount']!=0))].groupby(['item_id'])['quantity'].sum()\n",
    "    cname11 = 'item_month_'+str(x)+'_discount_quantity_sum'\n",
    "    item_agg[cname11] = item_agg.index.map(tmp_map)\n",
    "    item_agg.loc[item_agg[cname11].isnull(), cname11] = 0"
   ]
  },
  {
   "cell_type": "code",
   "execution_count": 10,
   "metadata": {},
   "outputs": [],
   "source": [
    "#Aggregation of item data by quarter in customer's transaction date\n",
    "for x in cust_item['date_quarter'].unique():\n",
    "    \n",
    "    tmp_map = cust_item[(cust_item['date_quarter']==x)].groupby(['item_id']).size()\n",
    "    cname1 = 'item_quarter_'+str(x)+'_trans_count'\n",
    "    item_agg[cname1] = item_agg.index.map(tmp_map)\n",
    "    item_agg.loc[item_agg[cname1].isnull(), cname1] = 0\n",
    "    \n",
    "    tmp_map = cust_item[(cust_item['date_quarter']==x)].groupby(['item_id'])['quantity'].sum()\n",
    "    cname2 = 'item_quarter_'+str(x)+'_quantity_sum'\n",
    "    item_agg[cname2] = item_agg.index.map(tmp_map)\n",
    "    item_agg.loc[item_agg[cname2].isnull(), cname2] = 0\n",
    "    \n",
    "    tmp_map = cust_item[(cust_item['date_quarter']==x)].groupby(['item_id'])['selling_price'].sum()\n",
    "    cname3 = 'item_quarter_'+str(x)+'_selling_price_sum'\n",
    "    item_agg[cname3] = item_agg.index.map(tmp_map)\n",
    "    item_agg.loc[item_agg[cname3].isnull(), cname3] = 0\n",
    "    \n",
    "    tmp_map = cust_item[(cust_item['date_quarter']==x)].groupby(['item_id'])['coupon_discount'].sum()\n",
    "    cname4 = 'item_quarter_'+str(x)+'_coupon_discount_sum'\n",
    "    item_agg[cname4] = item_agg.index.map(tmp_map)\n",
    "    item_agg.loc[item_agg[cname4].isnull(), cname4] = 0\n",
    "    \n",
    "    tmp_map = cust_item[(cust_item['date_quarter']==x)].groupby(['item_id'])['other_discount'].sum()\n",
    "    cname5 = 'item_quarter_'+str(x)+'_other_discount_sum'\n",
    "    item_agg[cname5] = item_agg.index.map(tmp_map)\n",
    "    item_agg.loc[item_agg[cname5].isnull(), cname5] = 0\n",
    "    \n",
    "    tmp_map = cust_item[(cust_item['date_quarter']==x) & (cust_item['coupon_discount']!=0)].groupby(['item_id']).size()\n",
    "    cname6 = 'item_quarter_'+str(x)+'_coupdisc_trans_count'\n",
    "    item_agg[cname6] = item_agg.index.map(tmp_map)\n",
    "    item_agg.loc[item_agg[cname6].isnull(), cname6] = 0\n",
    "    \n",
    "    tmp_map = cust_item[(cust_item['date_quarter']==x) & (cust_item['coupon_discount']!=0)].groupby(['item_id'])['quantity'].sum()\n",
    "    cname7 = 'item_quarter_'+str(x)+'_coupdisc_quantity_sum'\n",
    "    item_agg[cname7] = item_agg.index.map(tmp_map)\n",
    "    item_agg.loc[item_agg[cname7].isnull(), cname7] = 0\n",
    "    \n",
    "    tmp_map = cust_item[(cust_item['date_quarter']==x) & (cust_item['other_discount']!=0)].groupby(['item_id']).size()\n",
    "    cname8 = 'item_quarter_'+str(x)+'_otherdisc_trans_count'\n",
    "    item_agg[cname8] = item_agg.index.map(tmp_map)\n",
    "    item_agg.loc[item_agg[cname8].isnull(), cname8] = 0\n",
    "    \n",
    "    tmp_map = cust_item[(cust_item['date_quarter']==x) & (cust_item['other_discount']!=0)].groupby(['item_id'])['quantity'].sum()\n",
    "    cname9 = 'item_quarter_'+str(x)+'_otherdisc_quantity_sum'\n",
    "    item_agg[cname9] = item_agg.index.map(tmp_map)\n",
    "    item_agg.loc[item_agg[cname9].isnull(), cname9] = 0\n",
    "    \n",
    "    tmp_map = cust_item[(cust_item['date_quarter']==x) &\n",
    "                        ((cust_item['other_discount']!=0) | (cust_item['coupon_discount']!=0))].groupby(['item_id']).size()\n",
    "    cname10 = 'item_quarter_'+str(x)+'_discount_trans_count'\n",
    "    item_agg[cname10] = item_agg.index.map(tmp_map)\n",
    "    item_agg.loc[item_agg[cname10].isnull(), cname10] = 0\n",
    "    \n",
    "    tmp_map = cust_item[(cust_item['date_quarter']==x) &\n",
    "                        ((cust_item['other_discount']!=0) | (cust_item['coupon_discount']!=0))].groupby(['item_id'])['quantity'].sum()\n",
    "    cname11 = 'item_quarter_'+str(x)+'_discount_quantity_sum'\n",
    "    item_agg[cname11] = item_agg.index.map(tmp_map)\n",
    "    item_agg.loc[item_agg[cname11].isnull(), cname11] = 0"
   ]
  },
  {
   "cell_type": "code",
   "execution_count": 37,
   "metadata": {},
   "outputs": [
    {
     "name": "stdout",
     "output_type": "stream",
     "text": [
      "<class 'pandas.core.frame.DataFrame'>\n",
      "RangeIndex: 74063 entries, 0 to 74062\n",
      "Columns: 260 entries, item_id to item_quarter_4_discount_quantity_sum\n",
      "dtypes: float64(256), int64(4)\n",
      "memory usage: 146.9 MB\n"
     ]
    }
   ],
   "source": [
    "item_agg.reset_index(inplace=True)\n",
    "item_agg.info()"
   ]
  },
  {
   "cell_type": "markdown",
   "metadata": {},
   "source": [
    "#### Aggregating and creating Features from transactional data for each coupon"
   ]
  },
  {
   "cell_type": "code",
   "execution_count": 11,
   "metadata": {},
   "outputs": [],
   "source": [
    "agg_col = {}\n",
    "\n",
    "for k in item_agg.columns:\n",
    "    if k!='item_id':\n",
    "        agg_col[k] = ['sum']\n",
    "coup_item_agg = coup.merge(item_agg, on='item_id', how='left')\n",
    "\n",
    "coup_agg = coup_item_agg.groupby(['coupon_id']).agg(agg_col)\n",
    "coup_agg.columns=[col[0].replace('item_', 'coup_',1) for col in coup_agg.columns.values]\n",
    "\n",
    "#Number of unique campaigns & customers targetted for each coupon?\n",
    "tmp_map = pd.concat([tr, ts], sort=False, axis='rows').groupby(['coupon_id'])['campaign_id'].nunique()\n",
    "coup_agg['coup_target_campaign_nunique'] = coup_agg.index.map(tmp_map)\n",
    "tmp_map = pd.concat([tr, ts], sort=False, axis='rows').groupby(['coupon_id'])['customer_id'].nunique()\n",
    "coup_agg['coup_target_customer_nunique'] = coup_agg.index.map(tmp_map)\n",
    "\n",
    "#Number of items in each coupon\n",
    "tmp_map = coup.groupby(['coupon_id']).size()\n",
    "coup_agg['coup_item_count'] = coup_agg.index.map(tmp_map)\n",
    "\n",
    "#Number of unique brands in each coupon?\n",
    "tmp_map = coup_item.groupby(['coupon_id'])['brand'].nunique()\n",
    "coup_agg['coup_brand_nunique'] = coup_agg.index.map(tmp_map)"
   ]
  },
  {
   "cell_type": "code",
   "execution_count": 12,
   "metadata": {},
   "outputs": [],
   "source": [
    "#Aggregation of coupon data by Local and Established brand types\n",
    "for x in coup_item['brand_type'].unique():\n",
    "    #Number of Local and Established items in each coupon?\n",
    "    tmp_map = coup_item[(coup_item['brand_type']==x)].groupby(['coupon_id']).size()\n",
    "    cname1 = 'coup_'+str(x)+'_item_count'\n",
    "    coup_agg[cname1] = coup_agg.index.map(tmp_map)\n",
    "    coup_agg.loc[coup_agg[cname1].isnull(), cname1] = 0\n",
    "    \n",
    "    #Number of Local and Established unique brands in each coupon?\n",
    "    tmp_map = coup_item[(coup_item['brand_type']==x)].groupby(['coupon_id'])['brand'].nunique()\n",
    "    cname2 = 'coup_'+str(x)+'_brand_nunique'\n",
    "    coup_agg[cname2] = coup_agg.index.map(tmp_map)\n",
    "    coup_agg.loc[coup_agg[cname2].isnull(), cname1] = 0"
   ]
  },
  {
   "cell_type": "code",
   "execution_count": 13,
   "metadata": {},
   "outputs": [],
   "source": [
    "tmp = pd.DataFrame(columns=['total','unique'])\n",
    "for x in coup.coupon_id.unique():\n",
    "    #Number of unique customers who purchased the items in each coupon?\n",
    "    x1 = coup[coup['coupon_id']==x]['item_id'].unique()\n",
    "    t = cust_item[cust_item['item_id'].isin(x1)]['customer_id'].count()\n",
    "    u = cust_item[cust_item['item_id'].isin(x1)]['customer_id'].nunique()\n",
    "    tmp=pd.concat([tmp, pd.DataFrame({'total':t,'unique':u}, index=[x])])\n",
    "\n",
    "coup_agg['coup_customer_trans_nunique'] = coup_agg.index.map(tmp['unique'])"
   ]
  },
  {
   "cell_type": "code",
   "execution_count": 17,
   "metadata": {},
   "outputs": [],
   "source": [
    "#Aggregation of coupon data by 19 item categories\n",
    "for x in coup_item['category'].unique():\n",
    "    #Number of unique items bought in each 19 item categories by each customer?\n",
    "    tmp_map = coup_item[(coup_item['category']==x)].groupby(['coupon_id'])['item_id'].nunique()\n",
    "    cname1 = 'coup_'+str(x)+'_item_nunique'\n",
    "    coup_agg[cname1] = coup_agg.index.map(tmp_map)\n",
    "    coup_agg.loc[coup_agg[cname1].isnull(), cname1] = 0\n",
    "    \n",
    "    #Number of unique brand bought in each 19 item categories by each customer?\n",
    "    tmp_map = coup_item[(coup_item['category']==x)].groupby(['coupon_id'])['brand'].nunique()\n",
    "    cname2 = 'coup_'+str(x)+'_brand_nunique'\n",
    "    coup_agg[cname2] = coup_agg.index.map(tmp_map)\n",
    "    coup_agg.loc[coup_agg[cname2].isnull(), cname2] = 0\n",
    "    \n",
    "    #Number of items & unique brands in Local and established brand types across 19 categories in each coupon?\n",
    "    for x1 in coup_item['brand_type'].unique():\n",
    "        tmp_map = coup_item[(coup_item['category']==x)&(coup_item['brand_type']==x1)].groupby(['coupon_id'])['item_id'].nunique()\n",
    "        cname3 = 'coup_'+str(x1)+'_'+str(x)+'_item_nunique'\n",
    "        coup_agg[cname3] = coup_agg.index.map(tmp_map)\n",
    "        coup_agg.loc[coup_agg[cname3].isnull(), cname3] = 0\n",
    "        \n",
    "        tmp_map = coup_item[(coup_item['category']==x)&(coup_item['brand_type']==x1)].groupby(['coupon_id'])['brand'].nunique()\n",
    "        cname4 = 'coup_'+str(x1)+'_'+str(x)+'_brand_nunique'\n",
    "        coup_agg[cname4] = coup_agg.index.map(tmp_map)\n",
    "        coup_agg.loc[coup_agg[cname4].isnull(), cname4] = 0       \n",
    "        "
   ]
  },
  {
   "cell_type": "code",
   "execution_count": 18,
   "metadata": {},
   "outputs": [],
   "source": [
    "#Coupon discount percent, other discount percent, total discount percent in price for each coupon?\n",
    "coup_agg['coup_coupdisc_price_perc'] = coup_agg.apply(lambda x: 0 if (x['coup_selling_price_sum']==0)\n",
    "                                                     else x['coup_coupon_discount_sum']/x['coup_selling_price_sum'], axis=1)\n",
    "\n",
    "coup_agg['coup_otherdisc_price_perc'] = coup_agg.apply(lambda x: 0 if (x['coup_selling_price_sum']==0)\n",
    "                                                     else x['coup_other_discount_sum']/x['coup_selling_price_sum'], axis=1)\n",
    "\n",
    "coup_agg['coup_discount_price_perc'] = coup_agg.apply(lambda x: 0 if (x['coup_selling_price_sum']==0) else\n",
    "                                                      (x['coup_other_discount_sum']+x['coup_coupon_discount_sum'])/x['coup_selling_price_sum'], axis=1)"
   ]
  },
  {
   "cell_type": "code",
   "execution_count": 19,
   "metadata": {},
   "outputs": [],
   "source": [
    "#Aggregation of coupon data by weekday in customer's transaction date\n",
    "for x in cust_item['date_weekday'].unique():\n",
    "    x1 = 'coup_'\n",
    "    cname1 = x1+str(x)+'_trans_count'\n",
    "    cname2 = x1+str(x)+'_quantity_sum'\n",
    "    cname3 = x1+str(x)+'_coupdisc_trans_count'\n",
    "    cname4 = x1+str(x)+'_coupdisc_quantity_sum'\n",
    "    cname5 = x1+str(x)+'_discount_trans_count'\n",
    "    cname6 = x1+str(x)+'_discount_quantity_sum'\n",
    "    cname7 = x1+str(x)+'_otherdisc_trans_count'\n",
    "    cname8 = x1+str(x)+'_otherdisc_quantity_sum'\n",
    "    cname9 = x1+str(x)+'_selling_price_sum'\n",
    "    cname10 = x1+str(x)+'_coupon_discount_sum'\n",
    "    cname11 = x1+str(x)+'_other_discount_sum'\n",
    "    \n",
    "    #Coupon discount percent, other discount percent, total discount percent in price in each month, dayofweek, quarter & year in each coupon?\n",
    "    \n",
    "    cname12 = x1+str(x)+'_coupdisc_trans_perc'\n",
    "    cname13 = x1+str(x)+'_discount_trans_perc'\n",
    "    cname14 = x1+str(x)+'_otherdisc_trans_perc'\n",
    "    cname15 = x1+str(x)+'_coupdisc_quantity_perc'\n",
    "    cname16 = x1+str(x)+'_discount_quantity_perc'\n",
    "    cname17 = x1+str(x)+'_otherdisc_quantity_perc'\n",
    "    cname18 = x1+str(x)+'_coupdisc_price_perc'\n",
    "    cname19 = x1+str(x)+'_otherdisc_price_perc'\n",
    "    cname20 = x1+str(x)+'_discount_price_perc'\n",
    "    \n",
    "    coup_agg[cname12] = coup_agg.apply(lambda x: 0 if (x[cname1]==0) else x[cname3]/x[cname1], axis=1)\n",
    "    coup_agg[cname13] = coup_agg.apply(lambda x: 0 if (x[cname1]==0) else x[cname5]/x[cname1], axis=1)\n",
    "    coup_agg[cname14] = coup_agg.apply(lambda x: 0 if (x[cname1]==0) else x[cname7]/x[cname1], axis=1)\n",
    "    coup_agg[cname15] = coup_agg.apply(lambda x: 0 if (x[cname2]==0) else x[cname4]/x[cname2], axis=1)\n",
    "    coup_agg[cname16] = coup_agg.apply(lambda x: 0 if (x[cname2]==0) else x[cname6]/x[cname2], axis=1)\n",
    "    coup_agg[cname17] = coup_agg.apply(lambda x: 0 if (x[cname2]==0) else x[cname8]/x[cname2], axis=1)\n",
    "    coup_agg[cname18] = coup_agg.apply(lambda x: 0 if (x[cname9]==0) else x[cname10]/x[cname9], axis=1)\n",
    "    coup_agg[cname19] = coup_agg.apply(lambda x: 0 if (x[cname9]==0) else x[cname11]/x[cname9], axis=1)\n",
    "    coup_agg[cname20] = coup_agg.apply(lambda x: 0 if (x[cname9]==0) else (x[cname10]+x[cname11])/x[cname9], axis=1)"
   ]
  },
  {
   "cell_type": "code",
   "execution_count": 20,
   "metadata": {},
   "outputs": [],
   "source": [
    "#Aggregation of coupon data by month in customer's transaction date\n",
    "for x in cust_item['date_month'].unique():\n",
    "    x1 = 'coup_month_'\n",
    "    cname1 = x1+str(x)+'_trans_count'\n",
    "    cname2 = x1+str(x)+'_quantity_sum'\n",
    "    cname3 = x1+str(x)+'_coupdisc_trans_count'\n",
    "    cname4 = x1+str(x)+'_coupdisc_quantity_sum'\n",
    "    cname5 = x1+str(x)+'_discount_trans_count'\n",
    "    cname6 = x1+str(x)+'_discount_quantity_sum'\n",
    "    cname7 = x1+str(x)+'_otherdisc_trans_count'\n",
    "    cname8 = x1+str(x)+'_otherdisc_quantity_sum'\n",
    "    cname9 = x1+str(x)+'_selling_price_sum'\n",
    "    cname10 = x1+str(x)+'_coupon_discount_sum'\n",
    "    cname11 = x1+str(x)+'_other_discount_sum'\n",
    "    \n",
    "    \n",
    "    \n",
    "    cname12 = x1+str(x)+'_coupdisc_trans_perc'\n",
    "    cname13 = x1+str(x)+'_discount_trans_perc'\n",
    "    cname14 = x1+str(x)+'_otherdisc_trans_perc'\n",
    "    cname15 = x1+str(x)+'_coupdisc_quantity_perc'\n",
    "    cname16 = x1+str(x)+'_discount_quantity_perc'\n",
    "    cname17 = x1+str(x)+'_otherdisc_quantity_perc'\n",
    "    cname18 = x1+str(x)+'_coupdisc_price_perc'\n",
    "    cname19 = x1+str(x)+'_otherdisc_price_perc'\n",
    "    cname20 = x1+str(x)+'_discount_price_perc'\n",
    "    \n",
    "    coup_agg[cname12] = coup_agg.apply(lambda x: 0 if (x[cname1]==0) else x[cname3]/x[cname1], axis=1)\n",
    "    coup_agg[cname13] = coup_agg.apply(lambda x: 0 if (x[cname1]==0) else x[cname5]/x[cname1], axis=1)\n",
    "    coup_agg[cname14] = coup_agg.apply(lambda x: 0 if (x[cname1]==0) else x[cname7]/x[cname1], axis=1)\n",
    "    coup_agg[cname15] = coup_agg.apply(lambda x: 0 if (x[cname2]==0) else x[cname4]/x[cname2], axis=1)\n",
    "    coup_agg[cname16] = coup_agg.apply(lambda x: 0 if (x[cname2]==0) else x[cname6]/x[cname2], axis=1)\n",
    "    coup_agg[cname17] = coup_agg.apply(lambda x: 0 if (x[cname2]==0) else x[cname8]/x[cname2], axis=1)\n",
    "    coup_agg[cname18] = coup_agg.apply(lambda x: 0 if (x[cname9]==0) else x[cname10]/x[cname9], axis=1)\n",
    "    coup_agg[cname19] = coup_agg.apply(lambda x: 0 if (x[cname9]==0) else x[cname11]/x[cname9], axis=1)\n",
    "    coup_agg[cname20] = coup_agg.apply(lambda x: 0 if (x[cname9]==0) else (x[cname10]+x[cname11])/x[cname9], axis=1)"
   ]
  },
  {
   "cell_type": "code",
   "execution_count": 21,
   "metadata": {},
   "outputs": [],
   "source": [
    "#Aggregation of coupon data by quarter in customer's transaction date\n",
    "for x in cust_item['date_quarter'].unique():\n",
    "    x1 = 'coup_quarter_'\n",
    "    cname1 = x1+str(x)+'_trans_count'\n",
    "    cname2 = x1+str(x)+'_quantity_sum'\n",
    "    cname3 = x1+str(x)+'_coupdisc_trans_count'\n",
    "    cname4 = x1+str(x)+'_coupdisc_quantity_sum'\n",
    "    cname5 = x1+str(x)+'_discount_trans_count'\n",
    "    cname6 = x1+str(x)+'_discount_quantity_sum'\n",
    "    cname7 = x1+str(x)+'_otherdisc_trans_count'\n",
    "    cname8 = x1+str(x)+'_otherdisc_quantity_sum'\n",
    "    cname9 = x1+str(x)+'_selling_price_sum'\n",
    "    cname10 = x1+str(x)+'_coupon_discount_sum'\n",
    "    cname11 = x1+str(x)+'_other_discount_sum'\n",
    "    \n",
    "    #Coupon discount percent, other discount percent, total discount percent in price in each month, dayofweek, quarter & year in each coupon?\n",
    "    \n",
    "    cname12 = x1+str(x)+'_coupdisc_trans_perc'\n",
    "    cname13 = x1+str(x)+'_discount_trans_perc'\n",
    "    cname14 = x1+str(x)+'_otherdisc_trans_perc'\n",
    "    cname15 = x1+str(x)+'_coupdisc_quantity_perc'\n",
    "    cname16 = x1+str(x)+'_discount_quantity_perc'\n",
    "    cname17 = x1+str(x)+'_otherdisc_quantity_perc'\n",
    "    cname18 = x1+str(x)+'_coupdisc_price_perc'\n",
    "    cname19 = x1+str(x)+'_otherdisc_price_perc'\n",
    "    cname20 = x1+str(x)+'_discount_price_perc'\n",
    "    \n",
    "    coup_agg[cname12] = coup_agg.apply(lambda x: 0 if (x[cname1]==0) else x[cname3]/x[cname1], axis=1)\n",
    "    coup_agg[cname13] = coup_agg.apply(lambda x: 0 if (x[cname1]==0) else x[cname5]/x[cname1], axis=1)\n",
    "    coup_agg[cname14] = coup_agg.apply(lambda x: 0 if (x[cname1]==0) else x[cname7]/x[cname1], axis=1)\n",
    "    coup_agg[cname15] = coup_agg.apply(lambda x: 0 if (x[cname2]==0) else x[cname4]/x[cname2], axis=1)\n",
    "    coup_agg[cname16] = coup_agg.apply(lambda x: 0 if (x[cname2]==0) else x[cname6]/x[cname2], axis=1)\n",
    "    coup_agg[cname17] = coup_agg.apply(lambda x: 0 if (x[cname2]==0) else x[cname8]/x[cname2], axis=1)\n",
    "    coup_agg[cname18] = coup_agg.apply(lambda x: 0 if (x[cname9]==0) else x[cname10]/x[cname9], axis=1)\n",
    "    coup_agg[cname19] = coup_agg.apply(lambda x: 0 if (x[cname9]==0) else x[cname11]/x[cname9], axis=1)\n",
    "    coup_agg[cname20] = coup_agg.apply(lambda x: 0 if (x[cname9]==0) else (x[cname10]+x[cname11])/x[cname9], axis=1)"
   ]
  },
  {
   "cell_type": "code",
   "execution_count": 23,
   "metadata": {},
   "outputs": [],
   "source": [
    "coup_agg.reset_index().to_csv('coup_agg.csv', index=False)"
   ]
  },
  {
   "cell_type": "code",
   "execution_count": 24,
   "metadata": {},
   "outputs": [
    {
     "name": "stdout",
     "output_type": "stream",
     "text": [
      "<class 'pandas.core.frame.DataFrame'>\n",
      "Int64Index: 1116 entries, 1 to 1116\n",
      "Columns: 580 entries, coup_trans_count to coup_quarter_4_discount_price_perc\n",
      "dtypes: float64(575), int64(5)\n",
      "memory usage: 4.9 MB\n"
     ]
    }
   ],
   "source": [
    "coup_agg.info()"
   ]
  }
 ],
 "metadata": {
  "kernelspec": {
   "display_name": "Python 3",
   "language": "python",
   "name": "python3"
  },
  "language_info": {
   "codemirror_mode": {
    "name": "ipython",
    "version": 3
   },
   "file_extension": ".py",
   "mimetype": "text/x-python",
   "name": "python",
   "nbconvert_exporter": "python",
   "pygments_lexer": "ipython3",
   "version": "3.7.0"
  }
 },
 "nbformat": 4,
 "nbformat_minor": 2
}
