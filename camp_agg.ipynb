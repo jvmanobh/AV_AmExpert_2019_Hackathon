{
 "cells": [
  {
   "cell_type": "code",
   "execution_count": 2,
   "metadata": {},
   "outputs": [],
   "source": [
    "#Loading essential libraries\n",
    "import numpy as np\n",
    "import pandas as pd"
   ]
  },
  {
   "cell_type": "code",
   "execution_count": 3,
   "metadata": {},
   "outputs": [],
   "source": [
    "#Loading datasets\n",
    "tr = pd.read_csv('train.csv')\n",
    "camp = pd.read_csv('campaign_data.csv')\n",
    "coup = pd.read_csv('coupon_item_mapping.csv')\n",
    "item = pd.read_csv('item_data.csv')\n",
    "cust_dem = pd.read_csv('customer_demographics.csv')\n",
    "cust_trans = pd.read_csv('customer_transaction_data.csv')\n",
    "ts = pd.read_csv('test_QyjYwdj.csv')"
   ]
  },
  {
   "cell_type": "code",
   "execution_count": 4,
   "metadata": {},
   "outputs": [],
   "source": [
    "#Loading cutomer level & coupon level aggregation data which we prepared earlier\n",
    "cust_agg = pd.read_csv('cust_agg.csv')\n",
    "coup_agg = pd.read_csv('coup_agg.csv')"
   ]
  },
  {
   "cell_type": "code",
   "execution_count": 5,
   "metadata": {},
   "outputs": [
    {
     "name": "stdout",
     "output_type": "stream",
     "text": [
      "<class 'pandas.core.frame.DataFrame'>\n",
      "Int64Index: 92663 entries, 0 to 92662\n",
      "Data columns (total 5 columns):\n",
      "coupon_id     92663 non-null int64\n",
      "item_id       92663 non-null int64\n",
      "brand         92663 non-null int64\n",
      "brand_type    92663 non-null object\n",
      "category      92663 non-null object\n",
      "dtypes: int64(3), object(2)\n",
      "memory usage: 4.2+ MB\n",
      "<class 'pandas.core.frame.DataFrame'>\n",
      "Int64Index: 1324566 entries, 0 to 1324565\n",
      "Data columns (total 10 columns):\n",
      "date               1324566 non-null object\n",
      "customer_id        1324566 non-null int64\n",
      "item_id            1324566 non-null int64\n",
      "quantity           1324566 non-null int64\n",
      "selling_price      1324566 non-null float64\n",
      "other_discount     1324566 non-null float64\n",
      "coupon_discount    1324566 non-null float64\n",
      "brand              1324566 non-null int64\n",
      "brand_type         1324566 non-null object\n",
      "category           1324566 non-null object\n",
      "dtypes: float64(3), int64(4), object(3)\n",
      "memory usage: 111.2+ MB\n"
     ]
    }
   ],
   "source": [
    "#Merging coupon and item data\n",
    "coup_item = coup.merge(item, on='item_id', how='left')\n",
    "coup_item.info()\n",
    "\n",
    "#Merging cust_trans and item data\n",
    "cust_item = cust_trans.merge(item, on='item_id', how='left')\n",
    "cust_item.info()"
   ]
  },
  {
   "cell_type": "code",
   "execution_count": 7,
   "metadata": {},
   "outputs": [],
   "source": [
    "#Getting id level data from training and test dataset\n",
    "id_data = pd.concat([tr,ts],sort=False, axis='rows')[['campaign_id', 'coupon_id', 'customer_id']]"
   ]
  },
  {
   "cell_type": "code",
   "execution_count": 8,
   "metadata": {},
   "outputs": [],
   "source": [
    "#Number of unique coupons, unique customers in each campaign?\n",
    "camp_agg = id_data.groupby(['campaign_id']).agg({'coupon_id':['nunique', 'count'], 'customer_id':['nunique']})\n",
    "camp_agg.columns=['camp_' + '_'.join(col).strip() for col in camp_agg.columns.values]\n",
    "\n",
    "#frequency percentage of each campaing in train and test dataset?\n",
    "camp_agg.rename(columns={'camp_coupon_id_count':'camp_frequency_perc'}, inplace=True)\n",
    "camp_agg['camp_frequency_perc'] = camp_agg['camp_frequency_perc']/len(id_data)"
   ]
  },
  {
   "cell_type": "code",
   "execution_count": 9,
   "metadata": {},
   "outputs": [],
   "source": [
    "#How many distinct coupons and ciustomers are present in each campaign that were not present in any other campaign?\n",
    "tmp=pd.DataFrame(columns=['camp_customer_distinct_count', 'camp_coupon_distinct_count'])\n",
    "for x in id_data.campaign_id.unique():\n",
    "    tmp1 = len(np.setdiff1d(id_data[id_data['campaign_id']==x]['customer_id'].unique(),\\\n",
    "                                  id_data[id_data['campaign_id']!=x]['customer_id'].unique()))\n",
    "    tmp2 = len(np.setdiff1d(id_data[id_data['campaign_id']==x]['coupon_id'].unique(),\\\n",
    "                                  id_data[id_data['campaign_id']!=x]['coupon_id'].unique()))\n",
    "    tmp = pd.concat([tmp, pd.DataFrame({'camp_customer_distinct_count':tmp1,\n",
    "                                        'camp_coupon_distinct_count':tmp2}, index=[x])])\n",
    "    \n",
    "camp_agg['camp_customer_distinct_count'] = camp_agg.index.map(tmp['camp_customer_distinct_count'])\n",
    "camp_agg['camp_coupon_distinct_count'] = camp_agg.index.map(tmp['camp_coupon_distinct_count'])"
   ]
  },
  {
   "cell_type": "code",
   "execution_count": 10,
   "metadata": {},
   "outputs": [],
   "source": [
    "#How many unique items & unique brands are present in each campaign?\n",
    "tmp=pd.DataFrame(columns=['camp_item_nunique', 'camp_brand_nunique', 'camp_Local_item_nunique',\n",
    "                          'camp_Established_item_nunique', 'camp_Local_brand_nunique', 'camp_Established_brand_nunique'])\n",
    "\n",
    "for x in id_data.campaign_id.unique():\n",
    "    x1 = id_data[id_data['campaign_id']==x]['coupon_id'].unique()\n",
    "    tmp1 = coup_item[coup_item['coupon_id'].isin(x1)]['item_id'].nunique()\n",
    "    tmp2 = coup_item[coup_item['coupon_id'].isin(x1)]['brand'].nunique()\n",
    "    #How many Local & Established unique items & unique brands are present in each campaign?\n",
    "    \n",
    "    tmp3 = coup_item[coup_item['coupon_id'].isin(x1) & (coup_item['brand_type']=='Local')]['item_id'].nunique()\n",
    "    tmp4 = coup_item[coup_item['coupon_id'].isin(x1) & (coup_item['brand_type']=='Local')]['brand'].nunique()\n",
    "    \n",
    "    tmp5 = coup_item[coup_item['coupon_id'].isin(x1) & (coup_item['brand_type']=='Established')]['item_id'].nunique()\n",
    "    tmp6 = coup_item[coup_item['coupon_id'].isin(x1) & (coup_item['brand_type']=='Established')]['brand'].nunique()\n",
    "    \n",
    "    tmp = pd.concat([tmp, pd.DataFrame({'camp_item_nunique':tmp1, 'camp_brand_nunique':tmp2, 'camp_Local_item_nunique':tmp3,\n",
    "                                        'camp_Established_item_nunique':tmp5, 'camp_Local_brand_nunique':tmp4,\n",
    "                                        'camp_Established_brand_nunique':tmp6}, index=[x])])\n",
    "for c in tmp.columns:\n",
    "    camp_agg[c] = camp_agg.index.map(tmp[c])"
   ]
  },
  {
   "cell_type": "code",
   "execution_count": 11,
   "metadata": {},
   "outputs": [],
   "source": [
    "#For Each 19 categories how many unique items & unique brands are present in each campaign?\n",
    "for x in coup_item['category'].unique():\n",
    "    tmp_cat = coup_item[(coup_item['category']==x)]\n",
    "    cname1 = 'camp_'+str(x)+'_item_nunique'\n",
    "    cname2 = 'camp_'+str(x)+'_brand_nunique'\n",
    "    tmp = pd.DataFrame(columns=[cname1,cname2])\n",
    "    for x1 in id_data['campaign_id'].unique():\n",
    "        tmp_coup = id_data[id_data['campaign_id']==x1]['coupon_id']\n",
    "        tmp1 = tmp_cat[tmp_cat['coupon_id'].isin(tmp_coup)]['item_id'].nunique()\n",
    "        tmp2 = tmp_cat[tmp_cat['coupon_id'].isin(tmp_coup)]['brand'].nunique()\n",
    "        tmp = pd.concat([tmp, pd.DataFrame({cname1:tmp1, cname2:tmp2}, index=[x1])])\n",
    "    camp_agg[cname1] = camp_agg.index.map(tmp[cname1])\n",
    "    camp_agg[cname2] = camp_agg.index.map(tmp[cname2])"
   ]
  },
  {
   "cell_type": "code",
   "execution_count": 12,
   "metadata": {},
   "outputs": [],
   "source": [
    "#How many transactions happened for all the unique customers inside each campaign?\n",
    "#How many transactions happened for all the unique coupons present inside each campaign?\n",
    "camp_agg['camp_customer_trans_Count']=0\n",
    "camp_agg['camp_coupon_trans_Count']=0\n",
    "for x in id_data['campaign_id'].unique():\n",
    "    x1 = id_data[id_data['campaign_id']==x]['customer_id'].unique()\n",
    "    x2 = id_data[id_data['campaign_id']==x]['coupon_id'].unique()\n",
    "    camp_agg.loc[camp_agg.index==x, 'camp_customer_trans_Count'] = cust_agg[cust_agg.index.isin(x1)]['cust_trans_count'].sum()\n",
    "    camp_agg.loc[camp_agg.index==x, 'camp_coupon_trans_Count'] = coup_agg[coup_agg.index.isin(x2)]['coup_trans_count'].sum()"
   ]
  },
  {
   "cell_type": "code",
   "execution_count": 13,
   "metadata": {},
   "outputs": [],
   "source": [
    "#How many transactions happened for the distinct customers & distinct coupons present in each campaign?\n",
    "camp_agg['camp_customer_distinct_trans_Count']=0\n",
    "camp_agg['camp_coupon_distinct_trans_Count']=0\n",
    "for x in id_data['campaign_id'].unique():\n",
    "    x1 = np.setdiff1d(id_data[id_data['campaign_id']==x]['customer_id'].unique(),\n",
    "                      id_data[id_data['campaign_id']!=x]['customer_id'].unique())\n",
    "    x2 = np.setdiff1d(id_data[id_data['campaign_id']==x]['coupon_id'].unique(),\n",
    "                      id_data[id_data['campaign_id']!=x]['coupon_id'].unique())\n",
    "    camp_agg.loc[camp_agg.index==x, 'camp_customer_distinct_trans_Count'] = cust_agg[cust_agg.index.isin(x1)]['cust_trans_count'].sum()\n",
    "    camp_agg.loc[camp_agg.index==x, 'camp_coupon_distinct_trans_Count'] = coup_agg[coup_agg.index.isin(x2)]['coup_trans_count'].sum()"
   ]
  },
  {
   "cell_type": "code",
   "execution_count": 14,
   "metadata": {},
   "outputs": [],
   "source": [
    "#Saving the aggregated data into a csv file\n",
    "camp_agg.reset_index().to_csv('camp_agg.csv', index=False)"
   ]
  },
  {
   "cell_type": "code",
   "execution_count": 15,
   "metadata": {},
   "outputs": [
    {
     "name": "stdout",
     "output_type": "stream",
     "text": [
      "<class 'pandas.core.frame.DataFrame'>\n",
      "Int64Index: 28 entries, 1 to 30\n",
      "Data columns (total 49 columns):\n",
      "camp_coupon_id_nunique                       28 non-null int64\n",
      "camp_frequency_perc                          28 non-null float64\n",
      "camp_customer_id_nunique                     28 non-null int64\n",
      "camp_customer_distinct_count                 28 non-null int64\n",
      "camp_coupon_distinct_count                   28 non-null int64\n",
      "camp_item_nunique                            28 non-null int64\n",
      "camp_brand_nunique                           28 non-null int64\n",
      "camp_Local_item_nunique                      28 non-null int64\n",
      "camp_Established_item_nunique                28 non-null int64\n",
      "camp_Local_brand_nunique                     28 non-null int64\n",
      "camp_Established_brand_nunique               28 non-null int64\n",
      "camp_Grocery_item_nunique                    28 non-null int64\n",
      "camp_Grocery_brand_nunique                   28 non-null int64\n",
      "camp_Bakery_item_nunique                     28 non-null int64\n",
      "camp_Bakery_brand_nunique                    28 non-null int64\n",
      "camp_Skin & Hair Care_item_nunique           28 non-null int64\n",
      "camp_Skin & Hair Care_brand_nunique          28 non-null int64\n",
      "camp_Pharmaceutical_item_nunique             28 non-null int64\n",
      "camp_Pharmaceutical_brand_nunique            28 non-null int64\n",
      "camp_Seafood_item_nunique                    28 non-null int64\n",
      "camp_Seafood_brand_nunique                   28 non-null int64\n",
      "camp_Packaged Meat_item_nunique              28 non-null int64\n",
      "camp_Packaged Meat_brand_nunique             28 non-null int64\n",
      "camp_Dairy, Juices & Snacks_item_nunique     28 non-null int64\n",
      "camp_Dairy, Juices & Snacks_brand_nunique    28 non-null int64\n",
      "camp_Natural Products_item_nunique           28 non-null int64\n",
      "camp_Natural Products_brand_nunique          28 non-null int64\n",
      "camp_Miscellaneous_item_nunique              28 non-null int64\n",
      "camp_Miscellaneous_brand_nunique             28 non-null int64\n",
      "camp_Prepared Food_item_nunique              28 non-null int64\n",
      "camp_Prepared Food_brand_nunique             28 non-null int64\n",
      "camp_Meat_item_nunique                       28 non-null int64\n",
      "camp_Meat_brand_nunique                      28 non-null int64\n",
      "camp_Vegetables (cut)_item_nunique           28 non-null int64\n",
      "camp_Vegetables (cut)_brand_nunique          28 non-null int64\n",
      "camp_Travel_item_nunique                     28 non-null int64\n",
      "camp_Travel_brand_nunique                    28 non-null int64\n",
      "camp_Garden_item_nunique                     28 non-null int64\n",
      "camp_Garden_brand_nunique                    28 non-null int64\n",
      "camp_Flowers & Plants_item_nunique           28 non-null int64\n",
      "camp_Flowers & Plants_brand_nunique          28 non-null int64\n",
      "camp_Salads_item_nunique                     28 non-null int64\n",
      "camp_Salads_brand_nunique                    28 non-null int64\n",
      "camp_Restauarant_item_nunique                28 non-null int64\n",
      "camp_Restauarant_brand_nunique               28 non-null int64\n",
      "camp_customer_trans_Count                    28 non-null int64\n",
      "camp_coupon_trans_Count                      28 non-null float64\n",
      "camp_customer_distinct_trans_Count           28 non-null int64\n",
      "camp_coupon_distinct_trans_Count             28 non-null float64\n",
      "dtypes: float64(3), int64(46)\n",
      "memory usage: 10.9 KB\n"
     ]
    }
   ],
   "source": [
    "camp_agg.info()"
   ]
  }
 ],
 "metadata": {
  "kernelspec": {
   "display_name": "Python 3",
   "language": "python",
   "name": "python3"
  },
  "language_info": {
   "codemirror_mode": {
    "name": "ipython",
    "version": 3
   },
   "file_extension": ".py",
   "mimetype": "text/x-python",
   "name": "python",
   "nbconvert_exporter": "python",
   "pygments_lexer": "ipython3",
   "version": "3.7.0"
  }
 },
 "nbformat": 4,
 "nbformat_minor": 2
}
